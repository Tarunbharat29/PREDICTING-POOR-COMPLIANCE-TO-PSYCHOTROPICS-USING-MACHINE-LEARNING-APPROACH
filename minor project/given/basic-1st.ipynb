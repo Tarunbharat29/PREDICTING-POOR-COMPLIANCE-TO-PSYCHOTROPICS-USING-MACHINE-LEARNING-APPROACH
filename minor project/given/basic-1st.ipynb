{
 "cells": [
  {
   "cell_type": "code",
   "execution_count": 17,
   "id": "eff944fe-e9fd-400e-8189-e523e14de04d",
   "metadata": {},
   "outputs": [
    {
     "data": {
      "text/plain": [
       "'hello'"
      ]
     },
     "execution_count": 17,
     "metadata": {},
     "output_type": "execute_result"
    }
   ],
   "source": [
    "'hello'"
   ]
  },
  {
   "cell_type": "code",
   "execution_count": 18,
   "id": "2b25d7db-ba1f-40c6-b3f4-36fe23f763a9",
   "metadata": {},
   "outputs": [
    {
     "data": {
      "text/plain": [
       "6"
      ]
     },
     "execution_count": 18,
     "metadata": {},
     "output_type": "execute_result"
    }
   ],
   "source": [
    "3+3"
   ]
  },
  {
   "cell_type": "code",
   "execution_count": 19,
   "id": "d04afe1d-632b-408b-9de5-627bfdd10193",
   "metadata": {},
   "outputs": [
    {
     "data": {
      "text/plain": [
       "4"
      ]
     },
     "execution_count": 19,
     "metadata": {},
     "output_type": "execute_result"
    }
   ],
   "source": [
    "2**2"
   ]
  },
  {
   "cell_type": "code",
   "execution_count": 20,
   "id": "bb2097da-b327-478e-bde4-2ffdfedd60d9",
   "metadata": {},
   "outputs": [
    {
     "ename": "SyntaxError",
     "evalue": "invalid syntax (4151073847.py, line 1)",
     "output_type": "error",
     "traceback": [
      "\u001b[0;36m  Cell \u001b[0;32mIn[20], line 1\u001b[0;36m\u001b[0m\n\u001b[0;31m    2***2\u001b[0m\n\u001b[0m       ^\u001b[0m\n\u001b[0;31mSyntaxError\u001b[0m\u001b[0;31m:\u001b[0m invalid syntax\n"
     ]
    }
   ],
   "source": [
    "2***2"
   ]
  },
  {
   "cell_type": "code",
   "execution_count": 83,
   "id": "d9bd97f3-b995-40d3-91f5-b6ea31be5bbc",
   "metadata": {},
   "outputs": [
    {
     "data": {
      "text/plain": [
       "1"
      ]
     },
     "execution_count": 83,
     "metadata": {},
     "output_type": "execute_result"
    }
   ],
   "source": [
    "2^3"
   ]
  },
  {
   "cell_type": "code",
   "execution_count": null,
   "id": "e982bab1-f64a-4ca6-9f2c-b36551baf6e6",
   "metadata": {},
   "outputs": [],
   "source": [
    "s = 'hello'"
   ]
  },
  {
   "cell_type": "code",
   "execution_count": null,
   "id": "ae031dd7-262b-48aa-9fa4-75c1b346be67",
   "metadata": {},
   "outputs": [],
   "source": [
    "s"
   ]
  },
  {
   "cell_type": "code",
   "execution_count": null,
   "id": "b4673a86-ba4f-46cd-8a7e-48679f5b1eb4",
   "metadata": {},
   "outputs": [],
   "source": [
    "s[1]"
   ]
  },
  {
   "cell_type": "code",
   "execution_count": null,
   "id": "fcec1692-9df4-4a86-a594-2197b37e5721",
   "metadata": {},
   "outputs": [],
   "source": [
    "print(s[1])"
   ]
  },
  {
   "cell_type": "code",
   "execution_count": null,
   "id": "a465bbd5-0600-4650-b13a-60ecd71ce35e",
   "metadata": {},
   "outputs": [],
   "source": [
    "temp = 'abcdefghijklmnopqrstuvwxyz'"
   ]
  },
  {
   "cell_type": "code",
   "execution_count": null,
   "id": "77afa13e-a117-4322-92e4-fcd5f04bbe2e",
   "metadata": {},
   "outputs": [],
   "source": [
    "temp[1:25]"
   ]
  },
  {
   "cell_type": "code",
   "execution_count": null,
   "id": "2705b96d-fa03-4044-b47f-1b7d1cd33d1d",
   "metadata": {},
   "outputs": [],
   "source": [
    "temp[:5]"
   ]
  },
  {
   "cell_type": "code",
   "execution_count": null,
   "id": "3c7fef7d-715a-4b36-9450-7e41f9fa414b",
   "metadata": {},
   "outputs": [],
   "source": [
    "temp[2:4]"
   ]
  },
  {
   "cell_type": "code",
   "execution_count": null,
   "id": "8b61e264-532e-456b-9f5d-6277c89407b2",
   "metadata": {},
   "outputs": [],
   "source": [
    "[1,2,3]"
   ]
  },
  {
   "cell_type": "code",
   "execution_count": null,
   "id": "5c4f02e6-2ced-4300-bbde-d4ca0d78638f",
   "metadata": {},
   "outputs": [],
   "source": [
    "mylist = [1,2,3,4]"
   ]
  },
  {
   "cell_type": "code",
   "execution_count": null,
   "id": "896533c5-3004-4ca2-94b8-24bc6dd15cbf",
   "metadata": {},
   "outputs": [],
   "source": [
    "print(mylist)"
   ]
  },
  {
   "cell_type": "code",
   "execution_count": null,
   "id": "c38e1064-ef78-48da-86af-267cd5a08ec3",
   "metadata": {},
   "outputs": [],
   "source": [
    "mylist.append(5);"
   ]
  },
  {
   "cell_type": "code",
   "execution_count": null,
   "id": "3504c235-84ec-4a82-9cb3-511e54314dd7",
   "metadata": {},
   "outputs": [],
   "source": [
    "mylist"
   ]
  },
  {
   "cell_type": "code",
   "execution_count": null,
   "id": "b16e073d-1076-4f3c-9bef-656e3b4bbb7a",
   "metadata": {},
   "outputs": [],
   "source": [
    "mylist[2]"
   ]
  },
  {
   "cell_type": "code",
   "execution_count": null,
   "id": "4b0b36e4-c783-44de-ab1b-d4157362e3b1",
   "metadata": {},
   "outputs": [],
   "source": [
    "mylist[2:7]"
   ]
  },
  {
   "cell_type": "code",
   "execution_count": null,
   "id": "3f711213-55c7-48b7-8bd4-c357128529ed",
   "metadata": {},
   "outputs": [],
   "source": [
    "mylist[0] = 'abc'"
   ]
  },
  {
   "cell_type": "code",
   "execution_count": null,
   "id": "447a23d0-b33e-42f0-9a80-5900a58b729c",
   "metadata": {},
   "outputs": [],
   "source": [
    "mylist"
   ]
  },
  {
   "cell_type": "code",
   "execution_count": null,
   "id": "c7afabf1-2c8e-40d5-ac5d-63b89620e95e",
   "metadata": {},
   "outputs": [],
   "source": [
    "list = [1,2,3,[2,2,4],[2,[1,2,3],3]]"
   ]
  },
  {
   "cell_type": "code",
   "execution_count": null,
   "id": "db7af43c-77bb-4f8d-888d-fd450f2c15ed",
   "metadata": {},
   "outputs": [],
   "source": [
    "list"
   ]
  },
  {
   "cell_type": "code",
   "execution_count": null,
   "id": "6860163d-030c-4363-a1c0-f0afd214faa7",
   "metadata": {},
   "outputs": [],
   "source": [
    "list[4]"
   ]
  },
  {
   "cell_type": "code",
   "execution_count": null,
   "id": "ae2e1472-2020-4794-9f72-d11da7dc0488",
   "metadata": {},
   "outputs": [],
   "source": [
    "list[4][1]"
   ]
  },
  {
   "cell_type": "code",
   "execution_count": null,
   "id": "17417396-df94-4ace-b8db-6aa82429649d",
   "metadata": {},
   "outputs": [],
   "source": [
    "list[4][1][2]"
   ]
  },
  {
   "cell_type": "code",
   "execution_count": null,
   "id": "0d8dcf22-9d65-48ac-bbd2-74a9a0acd106",
   "metadata": {},
   "outputs": [],
   "source": [
    "list = [1,2,3,4]"
   ]
  },
  {
   "cell_type": "code",
   "execution_count": null,
   "id": "cbff6265-e75d-489c-9c86-12633293eba6",
   "metadata": {},
   "outputs": [],
   "source": [
    "list"
   ]
  },
  {
   "cell_type": "code",
   "execution_count": null,
   "id": "d9732a14-4030-430b-b3b9-9233fbe35ac8",
   "metadata": {},
   "outputs": [],
   "source": [
    "list.add(2)"
   ]
  },
  {
   "cell_type": "code",
   "execution_count": null,
   "id": "1bc95123-8253-4d44-8462-522c876aed37",
   "metadata": {},
   "outputs": [],
   "source": [
    "dict = {'key1' : [1,2,3] , 'key2' : [4,5,6]}"
   ]
  },
  {
   "cell_type": "code",
   "execution_count": null,
   "id": "4a90885d-e06b-45db-8221-f324df650ca6",
   "metadata": {},
   "outputs": [],
   "source": [
    "dict"
   ]
  },
  {
   "cell_type": "code",
   "execution_count": null,
   "id": "45c4fa8c-0591-4d80-92a5-88c7069d81c7",
   "metadata": {},
   "outputs": [],
   "source": [
    "dict['key1'][2]"
   ]
  },
  {
   "cell_type": "code",
   "execution_count": null,
   "id": "cd469d91-3fc5-4f84-8adb-2bb8318b3103",
   "metadata": {},
   "outputs": [],
   "source": [
    "if 2>3 :\n",
    "    print('ram')\n",
    "    print('sita')\n",
    "elif 3 != 3:\n",
    "    print('radha')\n",
    "    print('khrishna')\n",
    "else :\n",
    "    print ('jai shree ram')\n"
   ]
  },
  {
   "cell_type": "code",
   "execution_count": null,
   "id": "6599938d-abaf-4452-aa17-53a186820d0d",
   "metadata": {},
   "outputs": [],
   "source": [
    "tuple = (1,2,3,4,5)"
   ]
  },
  {
   "cell_type": "code",
   "execution_count": null,
   "id": "91381947-0db2-404e-b0fc-e24c70a278dc",
   "metadata": {},
   "outputs": [],
   "source": [
    "for ram in tuple :\n",
    "    print('tarun')"
   ]
  },
  {
   "cell_type": "code",
   "execution_count": null,
   "id": "84463524-4b68-48e3-9421-ed9d7289df61",
   "metadata": {},
   "outputs": [],
   "source": [
    "i = 1\n",
    "while i<5:\n",
    "    print('AI')\n",
    "    i +=1"
   ]
  },
  {
   "cell_type": "code",
   "execution_count": null,
   "id": "962eaaeb-27ac-4d80-867b-11a8a6efa5ad",
   "metadata": {},
   "outputs": [],
   "source": [
    "list"
   ]
  },
  {
   "cell_type": "code",
   "execution_count": null,
   "id": "7a1f2628-f900-4b49-b7b8-b228f55deca7",
   "metadata": {},
   "outputs": [],
   "source": [
    "list.append(8)"
   ]
  },
  {
   "cell_type": "code",
   "execution_count": null,
   "id": "b58e29ff-784a-4589-a860-179986ea1409",
   "metadata": {},
   "outputs": [],
   "source": [
    "list"
   ]
  },
  {
   "cell_type": "code",
   "execution_count": null,
   "id": "6355dac0-fd42-42ba-93f3-4d116989a2a3",
   "metadata": {},
   "outputs": [],
   "source": [
    "out1 = []"
   ]
  },
  {
   "cell_type": "code",
   "execution_count": null,
   "id": "4d828243-7ac6-4c49-90f0-d211a661215d",
   "metadata": {},
   "outputs": [],
   "source": [
    "out1"
   ]
  },
  {
   "cell_type": "code",
   "execution_count": null,
   "id": "2227fbb9-d142-4a14-bc53-7bf56e8b0baa",
   "metadata": {},
   "outputs": [],
   "source": [
    "for x in list:\n",
    "    out1.append(x*2)"
   ]
  },
  {
   "cell_type": "code",
   "execution_count": null,
   "id": "93539a29-daa5-4bb8-b89e-27d9de09e9e2",
   "metadata": {},
   "outputs": [],
   "source": [
    "out1"
   ]
  },
  {
   "cell_type": "code",
   "execution_count": null,
   "id": "32b61179-4ddf-4cab-a973-d543decd22ea",
   "metadata": {},
   "outputs": [],
   "source": [
    "tuple"
   ]
  },
  {
   "cell_type": "code",
   "execution_count": null,
   "id": "304da07c-2b2e-4401-8c1e-373e21983eaa",
   "metadata": {},
   "outputs": [],
   "source": [
    "set = {1,2,3,4}"
   ]
  },
  {
   "cell_type": "code",
   "execution_count": null,
   "id": "7601925f-2831-4e42-a7cc-14082894a289",
   "metadata": {},
   "outputs": [],
   "source": [
    "set"
   ]
  },
  {
   "cell_type": "code",
   "execution_count": null,
   "id": "87b0aeef-ab0c-4d67-9838-41392db7f25f",
   "metadata": {},
   "outputs": [],
   "source": [
    "set.append(8)"
   ]
  },
  {
   "cell_type": "code",
   "execution_count": null,
   "id": "529c0ddf-ee11-449b-86eb-b3a1dee5767a",
   "metadata": {},
   "outputs": [],
   "source": [
    "dict"
   ]
  },
  {
   "cell_type": "code",
   "execution_count": null,
   "id": "a8cb31df-ba49-49ef-b8e7-ad272b10f48b",
   "metadata": {},
   "outputs": [],
   "source": [
    "dict.append({'key3' :[8,3,1]})"
   ]
  },
  {
   "cell_type": "code",
   "execution_count": null,
   "id": "f8dfb52f-06b1-4121-a69e-c2b973205daa",
   "metadata": {},
   "outputs": [],
   "source": [
    "set"
   ]
  },
  {
   "cell_type": "code",
   "execution_count": null,
   "id": "d1e59f09-f9d8-4a83-ba2a-5349e9f3c58a",
   "metadata": {},
   "outputs": [],
   "source": [
    "set.add(23)"
   ]
  },
  {
   "cell_type": "code",
   "execution_count": null,
   "id": "b700de61-c948-4575-b6e2-cba99d9d2228",
   "metadata": {},
   "outputs": [],
   "source": [
    "set"
   ]
  },
  {
   "cell_type": "code",
   "execution_count": null,
   "id": "baed8052-a505-444e-ad7b-d44bf4101c8b",
   "metadata": {},
   "outputs": [],
   "source": [
    "set.update([31,32])"
   ]
  },
  {
   "cell_type": "code",
   "execution_count": null,
   "id": "a3d3e457-7896-4d1e-8eb7-704a40ac41fc",
   "metadata": {},
   "outputs": [],
   "source": [
    "set"
   ]
  },
  {
   "cell_type": "code",
   "execution_count": null,
   "id": "b6efb712-a735-4b70-b97a-ff451c268265",
   "metadata": {},
   "outputs": [],
   "source": [
    "dict"
   ]
  },
  {
   "cell_type": "code",
   "execution_count": null,
   "id": "cc175353-96b5-469d-88e2-695375f1054a",
   "metadata": {},
   "outputs": [],
   "source": [
    "dict['key3'] = [1,8,29]"
   ]
  },
  {
   "cell_type": "code",
   "execution_count": null,
   "id": "bc49124f-9b0b-4c92-bf75-f375fe882ba0",
   "metadata": {},
   "outputs": [],
   "source": [
    "dict"
   ]
  },
  {
   "cell_type": "code",
   "execution_count": null,
   "id": "9465de0b-658c-4c7c-8bad-4a24930322a1",
   "metadata": {},
   "outputs": [],
   "source": [
    "list1 = [11,21,31,24]"
   ]
  },
  {
   "cell_type": "code",
   "execution_count": 89,
   "id": "3e1bc220-2061-4344-96fe-af1271c24f62",
   "metadata": {},
   "outputs": [
    {
     "data": {
      "text/plain": [
       "[11, 21, 31, 24]"
      ]
     },
     "execution_count": 89,
     "metadata": {},
     "output_type": "execute_result"
    }
   ],
   "source": [
    "list"
   ]
  },
  {
   "cell_type": "code",
   "execution_count": null,
   "id": "7947c1db-315e-4908-9483-f81a52496128",
   "metadata": {},
   "outputs": [],
   "source": [
    "for i in list:\n",
    "    list.append(i**2)"
   ]
  },
  {
   "cell_type": "code",
   "execution_count": null,
   "id": "2ee9fe5f-4c83-43e6-9633-c4ced6fe9f6a",
   "metadata": {},
   "outputs": [],
   "source": []
  }
 ],
 "metadata": {
  "kernelspec": {
   "display_name": "Python 3 (ipykernel)",
   "language": "python",
   "name": "python3"
  },
  "language_info": {
   "codemirror_mode": {
    "name": "ipython",
    "version": 3
   },
   "file_extension": ".py",
   "mimetype": "text/x-python",
   "name": "python",
   "nbconvert_exporter": "python",
   "pygments_lexer": "ipython3",
   "version": "3.10.12"
  }
 },
 "nbformat": 4,
 "nbformat_minor": 5
}
